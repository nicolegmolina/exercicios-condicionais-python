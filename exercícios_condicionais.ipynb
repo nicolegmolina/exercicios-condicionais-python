{
 "cells": [
  {
   "cell_type": "code",
   "execution_count": null,
   "metadata": {},
   "outputs": [
    {
     "name": "stdout",
     "output_type": "stream",
     "text": [
      "1100.0\n"
     ]
    }
   ],
   "source": [
    "#Cálculo simples - aumento salarial\n",
    "salario= float (input(\"Qual o valor do seu salário? \"))\n",
    "tempo= int (input(\"A quantos anos você está na empresa ? \"))\n",
    "\n",
    "if tempo >= 5 :\n",
    "    aumento= salario * 0.20\n",
    "else:\n",
    "    aumento= salario * 0.10\n",
    "print (salario + aumento)\n",
    "   "
   ]
  },
  {
   "cell_type": "code",
   "execution_count": 16,
   "metadata": {},
   "outputs": [
    {
     "name": "stdout",
     "output_type": "stream",
     "text": [
      "25\n"
     ]
    }
   ],
   "source": [
    "#Escreva um programa que leia dois números distintos quaisquer e apresente o quadrado do maior número\n",
    "\n",
    "n1= int(input())\n",
    "n2= int (input())\n",
    "\n",
    "if n1 > n2 :\n",
    "    quadrado = n1**2\n",
    "else:\n",
    "    quadrado= n2**2\n",
    "print(quadrado)\n"
   ]
  },
  {
   "cell_type": "code",
   "execution_count": 20,
   "metadata": {},
   "outputs": [
    {
     "name": "stdout",
     "output_type": "stream",
     "text": [
      "O número 298 é par.\n"
     ]
    }
   ],
   "source": [
    "#Escreva um programa que leia um número inteiro e exiba se ele é um número par ou ímpar.\n",
    "\n",
    "n= int (input(\"Insira um número inteiro: \"))\n",
    "\n",
    "if n % 2 == 0 :\n",
    "    print(f\"O número {n} é par.\")\n",
    "else:\n",
    "    print(f\"O número {n} é ímpar.\")"
   ]
  },
  {
   "cell_type": "code",
   "execution_count": null,
   "metadata": {},
   "outputs": [
    {
     "name": "stdout",
     "output_type": "stream",
     "text": [
      "24.7\n"
     ]
    }
   ],
   "source": [
    "valor_compra= float (input())\n",
    "if valor_compra >= 20.00: \n",
    "    aumento= valor_compra * 0.45\n",
    "    total= aumento + valor_compra\n",
    "else:\n",
    "    aumento= valor_compra * 0.30\n",
    "    total = aumento + valor_compra\n",
    "print (total)\n"
   ]
  },
  {
   "cell_type": "code",
   "execution_count": 35,
   "metadata": {},
   "outputs": [
    {
     "name": "stdout",
     "output_type": "stream",
     "text": [
      "1.0\n"
     ]
    }
   ],
   "source": [
    "# Elabore um programa que leia dois números reais e mostre o resultado da diferença do maior valor pelo menor.\n",
    "\n",
    "n1= float (input())\n",
    "n2= float (input())\n",
    "\n",
    "if n1> n2 :\n",
    "    resultado= n1 - n2\n",
    "else:\n",
    "    resultado= n2- n1\n",
    "print (resultado)"
   ]
  },
  {
   "cell_type": "code",
   "execution_count": 38,
   "metadata": {},
   "outputs": [
    {
     "name": "stdout",
     "output_type": "stream",
     "text": [
      "A média é 2.7 e o aluno foi reprovado\n"
     ]
    }
   ],
   "source": [
    "nota1= float (input())\n",
    "nota2= float (input())\n",
    "nota3= float (input())\n",
    "media= (nota1 * 2 + nota2 * 3 + nota3 * 5) / 3\n",
    "\n",
    "if media >= 6.0:\n",
    "    print(f\"A média é {media:.1f} e o aluno foi aprovado\")\n",
    "else:\n",
    "    print(f\"A média é {media:.1f} e o aluno foi reprovado\")"
   ]
  },
  {
   "cell_type": "code",
   "execution_count": 39,
   "metadata": {},
   "outputs": [
    {
     "name": "stdout",
     "output_type": "stream",
     "text": [
      "Peso excedente: 2.0\n",
      "Valor da multa: R$ 8.00\n"
     ]
    }
   ],
   "source": [
    "peso_peixe = float (input())\n",
    "\n",
    "if (peso_peixe <= 50):\n",
    "    print (\"Dentro do regulamento\")\n",
    "else: \n",
    "    excedente = peso_peixe - 50\n",
    "    multa = excedente * 4\n",
    "    print(f\"Peso excedente: {excedente}\\nValor da multa: R$ {multa:.2f}\")\n",
    "    "
   ]
  },
  {
   "cell_type": "code",
   "execution_count": null,
   "metadata": {},
   "outputs": [],
   "source": []
  }
 ],
 "metadata": {
  "kernelspec": {
   "display_name": "Python 3",
   "language": "python",
   "name": "python3"
  },
  "language_info": {
   "codemirror_mode": {
    "name": "ipython",
    "version": 3
   },
   "file_extension": ".py",
   "mimetype": "text/x-python",
   "name": "python",
   "nbconvert_exporter": "python",
   "pygments_lexer": "ipython3",
   "version": "3.11.9"
  }
 },
 "nbformat": 4,
 "nbformat_minor": 2
}
